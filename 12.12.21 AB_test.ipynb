{
 "cells": [
  {
   "cell_type": "code",
   "execution_count": 1,
   "id": "096bb4a8-73d9-4999-937a-1f42bf7b1552",
   "metadata": {},
   "outputs": [],
   "source": [
    "import pandahouse\n",
    "import pandas as pd\n",
    "import seaborn as sns\n",
    "import matplotlib.pyplot as plt\n",
    "import numpy as np\n",
    "from statsmodels.stats.power import TTestIndPower\n",
    "from scipy import stats\n",
    "import scipy\n",
    "import math\n",
    "%matplotlib inline"
   ]
  },
  {
   "cell_type": "markdown",
   "id": "3b3b2c18-cbd2-4013-924d-5f983f1b7fa8",
   "metadata": {},
   "source": [
    "Пришло время проанализировать результаты эксперимента, который мы провели вместе с командой дата сайентистов. Эксперимент проходил  с 2021-11-29 по 2021-12-05 включительно. Для эксперимента были задействованы 0 и 1 группы.  \n",
    "\n",
    "В 1 группе был использован новый алгоритм рекомендации постов, 0 группа использовалась в качестве контроля. \n",
    "\n",
    "Основная гипотеза заключается в том, что новый алгоритм в 1 группе приведет к увеличению CTR. \n",
    "\n",
    "Ваша задача — проанализировать данные АB-теста.\n",
    "\n",
    "1. Выбрать метод анализа и сравнить CTR в двух группах.\n",
    "\n",
    "2. Провести контрольную проверку, что новый алгоритм не привел к тому, что сократилось число просмотров у пользователей. Типичная ситуация в АB-тестах — вырастили число лайков, но уменьшили число просмотров.\n",
    "\n",
    "3. Написать рекомендацию, будем ли мы раскатывать новый алгоритм на всех новых пользователей."
   ]
  },
  {
   "cell_type": "code",
   "execution_count": 2,
   "id": "0bb5e8fc-1c1f-4043-a010-5abb133f9865",
   "metadata": {},
   "outputs": [
    {
     "data": {
      "text/html": [
       "<div>\n",
       "<style scoped>\n",
       "    .dataframe tbody tr th:only-of-type {\n",
       "        vertical-align: middle;\n",
       "    }\n",
       "\n",
       "    .dataframe tbody tr th {\n",
       "        vertical-align: top;\n",
       "    }\n",
       "\n",
       "    .dataframe thead th {\n",
       "        text-align: right;\n",
       "    }\n",
       "</style>\n",
       "<table border=\"1\" class=\"dataframe\">\n",
       "  <thead>\n",
       "    <tr style=\"text-align: right;\">\n",
       "      <th></th>\n",
       "      <th>user_id</th>\n",
       "      <th>exp_group</th>\n",
       "      <th>likes</th>\n",
       "      <th>views</th>\n",
       "      <th>ctr</th>\n",
       "    </tr>\n",
       "  </thead>\n",
       "  <tbody>\n",
       "    <tr>\n",
       "      <th>0</th>\n",
       "      <td>109963</td>\n",
       "      <td>1</td>\n",
       "      <td>4</td>\n",
       "      <td>13</td>\n",
       "      <td>0.307692</td>\n",
       "    </tr>\n",
       "    <tr>\n",
       "      <th>1</th>\n",
       "      <td>138232</td>\n",
       "      <td>1</td>\n",
       "      <td>41</td>\n",
       "      <td>166</td>\n",
       "      <td>0.246988</td>\n",
       "    </tr>\n",
       "    <tr>\n",
       "      <th>2</th>\n",
       "      <td>49204</td>\n",
       "      <td>1</td>\n",
       "      <td>39</td>\n",
       "      <td>134</td>\n",
       "      <td>0.291045</td>\n",
       "    </tr>\n",
       "    <tr>\n",
       "      <th>3</th>\n",
       "      <td>49286</td>\n",
       "      <td>1</td>\n",
       "      <td>6</td>\n",
       "      <td>61</td>\n",
       "      <td>0.098361</td>\n",
       "    </tr>\n",
       "    <tr>\n",
       "      <th>4</th>\n",
       "      <td>145957</td>\n",
       "      <td>1</td>\n",
       "      <td>46</td>\n",
       "      <td>202</td>\n",
       "      <td>0.227723</td>\n",
       "    </tr>\n",
       "  </tbody>\n",
       "</table>\n",
       "</div>"
      ],
      "text/plain": [
       "   user_id  exp_group  likes  views       ctr\n",
       "0   109963          1      4     13  0.307692\n",
       "1   138232          1     41    166  0.246988\n",
       "2    49204          1     39    134  0.291045\n",
       "3    49286          1      6     61  0.098361\n",
       "4   145957          1     46    202  0.227723"
      ]
     },
     "execution_count": 2,
     "metadata": {},
     "output_type": "execute_result"
    }
   ],
   "source": [
    "# описываем соединение с БД\n",
    "connection = {\n",
    "    'host': 'https://clickhouse.lab.karpov.courses',\n",
    "    'password': 'dpo_python_2020',\n",
    "    'user': 'student',\n",
    "    'database': 'simulator'\n",
    "}\n",
    "# описываем sql запрос\n",
    "q = \"\"\"SELECT user_id, \n",
    "exp_group,\n",
    "countIf(action='like') likes, \n",
    "countIf(action='view') views, \n",
    "likes / views ctr\n",
    "FROM {db}.feed_actions \n",
    "where toDate(time) >= '2021-11-29' and toDate(time) <= '2021-12-05' and\n",
    "exp_group in (1, 0)\n",
    "group by user_id, exp_group\n",
    "\"\"\"\n",
    "# берем данные по sql запросу и кладем их df\n",
    "df = pandahouse.read_clickhouse(q, connection=connection)\n",
    "df.head()"
   ]
  },
  {
   "cell_type": "code",
   "execution_count": 3,
   "id": "9067c64e-3695-4080-9e2f-a58282328567",
   "metadata": {},
   "outputs": [
    {
     "data": {
      "text/plain": [
       "Ttest_indResult(statistic=-14.875024726684444, pvalue=7.822946546336658e-50)"
      ]
     },
     "execution_count": 3,
     "metadata": {},
     "output_type": "execute_result"
    }
   ],
   "source": [
    "# оценим с помощью t-test есть ли статистически значимые различия между группами 0 и 1, по метрике ctr\n",
    "t_test_result=stats.ttest_ind(df[df.exp_group == 0].ctr, df[df.exp_group == 1].ctr, equal_var=False)\n",
    "t_test_result"
   ]
  },
  {
   "cell_type": "markdown",
   "id": "a574ebec-7c25-474a-91fb-5c2ec021e0c5",
   "metadata": {},
   "source": [
    "считаем что группы отсплитованы достаточно хорошо"
   ]
  },
  {
   "cell_type": "code",
   "execution_count": 4,
   "id": "99ced0d1-2132-4686-b9f8-1d5e1703e9fa",
   "metadata": {},
   "outputs": [
    {
     "data": {
      "text/plain": [
       "<seaborn.axisgrid.FacetGrid at 0x7f6ac431df10>"
      ]
     },
     "execution_count": 4,
     "metadata": {},
     "output_type": "execute_result"
    },
    {
     "data": {
      "image/png": "[encoded data removed]",
      "text/plain": [
       "<Figure size 360x360 with 1 Axes>"
      ]
     },
     "metadata": {
      "needs_background": "light"
     },
     "output_type": "display_data"
    }
   ],
   "source": [
    "# посмторим распределение ctr в обеих подгруппах\n",
    "sns.displot(df[df.exp_group == 0].ctr)"
   ]
  },
  {
   "cell_type": "code",
   "execution_count": 5,
   "id": "119b3b47-00e8-466c-9f46-57c346d3930d",
   "metadata": {},
   "outputs": [
    {
     "data": {
      "text/plain": [
       "<seaborn.axisgrid.FacetGrid at 0x7f6ac431dfa0>"
      ]
     },
     "execution_count": 5,
     "metadata": {},
     "output_type": "execute_result"
    },
    {
     "data": {
      "image/png": "[encoded data removed]",
      "text/plain": [
       "<Figure size 360x360 with 1 Axes>"
      ]
     },
     "metadata": {
      "needs_background": "light"
     },
     "output_type": "display_data"
    }
   ],
   "source": [
    "sns.displot(df[df.exp_group == 1].ctr)"
   ]
  },
  {
   "cell_type": "code",
   "execution_count": 20,
   "id": "205c10da-f351-4305-8b38-5efe4a54ed6a",
   "metadata": {},
   "outputs": [
    {
     "name": "stderr",
     "output_type": "stream",
     "text": [
      "/nfs/env/lib/python3.8/site-packages/scipy/stats/morestats.py:1760: UserWarning: p-value may not be accurate for N > 5000.\n",
      "  warnings.warn(\"p-value may not be accurate for N > 5000.\")\n"
     ]
    },
    {
     "data": {
      "text/plain": [
       "ShapiroResult(statistic=0.9551162123680115, pvalue=0.0)"
      ]
     },
     "execution_count": 20,
     "metadata": {},
     "output_type": "execute_result"
    }
   ],
   "source": [
    "# проверим наши распредения на нормальность\n",
    "scipy.stats.shapiro(df[df.exp_group == 0].ctr)"
   ]
  },
  {
   "cell_type": "code",
   "execution_count": 21,
   "id": "ad93ac33-3b42-44f7-ba29-8c2166830dd9",
   "metadata": {},
   "outputs": [
    {
     "data": {
      "text/plain": [
       "ShapiroResult(statistic=0.9542357921600342, pvalue=0.0)"
      ]
     },
     "execution_count": 21,
     "metadata": {},
     "output_type": "execute_result"
    }
   ],
   "source": [
    "scipy.stats.shapiro(df[df.exp_group == 1].ctr)"
   ]
  },
  {
   "cell_type": "markdown",
   "id": "cac8a749-abcc-4f84-af87-6e62d76dff33",
   "metadata": {},
   "source": [
    "#### Согласно результатам тестов и визуальным наблюдениям наши распределения нельзя причислять к нормальным,\n",
    "#### поэтому для оценки групп будем пользоваться непараметрическим критерием Манна-Витни"
   ]
  },
  {
   "cell_type": "code",
   "execution_count": 8,
   "id": "073aab72-027a-4c6a-a130-971b4b38f739",
   "metadata": {},
   "outputs": [
    {
     "data": {
      "text/plain": [
       "MannwhitneyuResult(statistic=68878160.0, pvalue=9.164668597899911e-61)"
      ]
     },
     "execution_count": 8,
     "metadata": {},
     "output_type": "execute_result"
    }
   ],
   "source": [
    "# за нулевую гипотезу возьмем предположение что между группами 0 и 1 нет статистически значимых различий \n",
    "# (т.е. нет разницы между новым и старым алгоритмами)\n",
    "stats.mannwhitneyu(df[df.exp_group == 0].ctr, df[df.exp_group == 1].ctr)"
   ]
  },
  {
   "cell_type": "markdown",
   "id": "807a3380-1d15-441d-b84d-a12312f522f1",
   "metadata": {},
   "source": [
    "#### p-value \"хорошо\" меньше порога 0,05 следовательно наши группы 0 и 1 стастистичеки значимо различаются."
   ]
  },
  {
   "cell_type": "code",
   "execution_count": 9,
   "id": "743cc967-1481-4d8a-8521-b5f39d3ff35e",
   "metadata": {},
   "outputs": [
    {
     "name": "stdout",
     "output_type": "stream",
     "text": [
      "Median/mean CTR в группе 0:  0.206 / 0.218\n",
      "Median/mean CTR в группе 1:  0.222 / 0.234\n"
     ]
    }
   ],
   "source": [
    "print ('Median/mean CTR в группе 0: ', round(df[df.exp_group == 0].ctr.median(),3), '/', round(df[df.exp_group == 0].ctr.mean(),3))\n",
    "print ('Median/mean CTR в группе 1: ', round(df[df.exp_group == 1].ctr.median(),3), '/', round(df[df.exp_group == 1].ctr.mean(),3))"
   ]
  },
  {
   "cell_type": "markdown",
   "id": "163eb9ef-5425-49e5-a7a1-0c52b21ae52d",
   "metadata": {},
   "source": [
    "#### Глядя на значения CTR в тестовой и контрольной группах мы отмечаем повышение значения метрики при использовании нового алгоритма. Посмотрим не привело ли повышение CTR к падению/изменению входящих в его состав метрик."
   ]
  },
  {
   "cell_type": "code",
   "execution_count": 10,
   "id": "ca6eb300-ba26-4604-977b-968f61d2b72e",
   "metadata": {},
   "outputs": [
    {
     "name": "stdout",
     "output_type": "stream",
     "text": [
      "Median/mean likes в группе 0:  13.0 / 15.85\n",
      "Median/mean likes в группе 1:  14.0 / 16.919\n"
     ]
    }
   ],
   "source": [
    "print ('Median/mean likes в группе 0: ', round(df[df.exp_group == 0].likes.median(),3), '/', round(df[df.exp_group == 0].likes.mean(),3))\n",
    "print ('Median/mean likes в группе 1: ', round(df[df.exp_group == 1].likes.median(),3), '/', round(df[df.exp_group == 1].likes.mean(),3))"
   ]
  },
  {
   "cell_type": "code",
   "execution_count": 11,
   "id": "a543be47-e46e-4ec2-863d-1ed33d4994a9",
   "metadata": {},
   "outputs": [
    {
     "name": "stdout",
     "output_type": "stream",
     "text": [
      "Median/mean views в группе 0:  62.0 / 74.947\n",
      "Median/mean views в группе 1:  62.0 / 74.391\n"
     ]
    }
   ],
   "source": [
    "print ('Median/mean views в группе 0: ', round(df[df.exp_group == 0].views.median(),3), '/', round(df[df.exp_group == 0].views.mean(),3))\n",
    "print ('Median/mean views в группе 1: ', round(df[df.exp_group == 1].views.median(),3), '/', round(df[df.exp_group == 1].views.mean(),3))"
   ]
  },
  {
   "cell_type": "markdown",
   "id": "57c94cbb-0836-4a20-b5bc-ec91ecfff65b",
   "metadata": {},
   "source": [
    "#### Мы наблюдаем увеличение количества лайков при сохранении количества просмотров. Считаем что новый алгоритм, опробованный на группе 1, сотит того что бы быть реализованным на всех пользователей."
   ]
  },
  {
   "cell_type": "code",
   "execution_count": null,
   "id": "92f14123-5e57-4884-aeb8-05c52b6af93a",
   "metadata": {},
   "outputs": [],
   "source": []
  },
  {
   "cell_type": "markdown",
   "id": "e164672a-3897-42cd-9d40-c46a0a15661b",
   "metadata": {},
   "source": [
    "#### В тайне от руководства, на всякий случай что бы не уволили потом, проведем теже расчеты для \"преобразованных\" ctr-ов"
   ]
  },
  {
   "cell_type": "code",
   "execution_count": 12,
   "id": "709bce7d-3d19-4ec2-8e1f-2624eccd5b2b",
   "metadata": {},
   "outputs": [],
   "source": [
    "def get_smothed_ctr(user_likes, user_views, global_ctr, alpha):\n",
    "    smothed_ctr = (user_likes + alpha * global_ctr) / (user_views + alpha)\n",
    "    return smothed_ctr"
   ]
  },
  {
   "cell_type": "code",
   "execution_count": 13,
   "id": "3ce24b91-4ab8-41fa-bd6a-131b753e631d",
   "metadata": {},
   "outputs": [],
   "source": [
    "global_ctr = df.likes.sum() / df.views.sum()\n",
    "df['smothed_ctr'] = df.apply(lambda x: get_smothed_ctr(x['likes'], x['views'], global_ctr, 5), axis=1)\n",
    "df['log_ctr'] = np.log(df.ctr+0.00001)"
   ]
  },
  {
   "cell_type": "code",
   "execution_count": 17,
   "id": "93411cb3-e47a-4b8a-bb45-97b7f9d13762",
   "metadata": {},
   "outputs": [
    {
     "data": {
      "text/plain": [
       "<seaborn.axisgrid.FacetGrid at 0x7f6a6e28d970>"
      ]
     },
     "execution_count": 17,
     "metadata": {},
     "output_type": "execute_result"
    },
    {
     "data": {
      "image/png": "[encoded data removed]",
      "text/plain": [
       "<Figure size 360x360 with 1 Axes>"
      ]
     },
     "metadata": {
      "needs_background": "light"
     },
     "output_type": "display_data"
    }
   ],
   "source": [
    "# посмотрим на получившиеся \"преобразванные\" распределения\n",
    "sns.displot(df[df.exp_group == 0].smothed_ctr)"
   ]
  },
  {
   "cell_type": "code",
   "execution_count": 18,
   "id": "b226d48a-3a48-4bf1-a825-e4979948a560",
   "metadata": {},
   "outputs": [
    {
     "data": {
      "text/plain": [
       "<seaborn.axisgrid.FacetGrid at 0x7f6a6e511b20>"
      ]
     },
     "execution_count": 18,
     "metadata": {},
     "output_type": "execute_result"
    },
    {
     "data": {
      "image/png": "[encoded data removed]",
      "text/plain": [
       "<Figure size 360x360 with 1 Axes>"
      ]
     },
     "metadata": {
      "needs_background": "light"
     },
     "output_type": "display_data"
    }
   ],
   "source": [
    "sns.displot(df[df.exp_group == 0].log_ctr)"
   ]
  },
  {
   "cell_type": "code",
   "execution_count": 19,
   "id": "e3927284-cec2-4358-99ce-8b1ef155dd90",
   "metadata": {},
   "outputs": [],
   "source": [
    "# красиво и ближе к нормальному, но мы все-равно наблюдаем \"хвосты\", в одном случае справа в, другом слева\n",
    "# поэтому так же пользуемся непараметрикой Манна-Витни"
   ]
  },
  {
   "cell_type": "code",
   "execution_count": 15,
   "id": "0c7288f7-9961-463d-bc32-3b54b7546267",
   "metadata": {},
   "outputs": [
    {
     "data": {
      "text/plain": [
       "MannwhitneyuResult(statistic=68696337.5, pvalue=4.585256224834548e-63)"
      ]
     },
     "execution_count": 15,
     "metadata": {},
     "output_type": "execute_result"
    }
   ],
   "source": [
    "stats.mannwhitneyu(df[df.exp_group == 0].smothed_ctr, df[df.exp_group == 1].smothed_ctr)"
   ]
  },
  {
   "cell_type": "code",
   "execution_count": 56,
   "id": "53fc2061-8bed-4f6f-b202-5e30985c9b3b",
   "metadata": {},
   "outputs": [
    {
     "data": {
      "text/plain": [
       "MannwhitneyuResult(statistic=68878160.0, pvalue=9.164668597899911e-61)"
      ]
     },
     "execution_count": 56,
     "metadata": {},
     "output_type": "execute_result"
    }
   ],
   "source": [
    "stats.mannwhitneyu(df[df.exp_group == 0].log_ctr, df[df.exp_group == 1].log_ctr)"
   ]
  },
  {
   "cell_type": "code",
   "execution_count": 57,
   "id": "dfe69acf-2181-418c-ba1b-61473e0fc738",
   "metadata": {},
   "outputs": [],
   "source": [
    "# 'преобразованные' ctr на тестах Манна-Витни так же показывают нам стат.значимые различия между группами 0 и 1 "
   ]
  },
  {
   "cell_type": "markdown",
   "id": "f1f2648d-7008-420a-b630-5940729c957e",
   "metadata": {},
   "source": [
    "#### Рапортуем о пригодности нового алгоритма и просим премию за непосильный труд."
   ]
  }
 ],
 "metadata": {
  "kernelspec": {
   "display_name": "Python 3 (ipykernel)",
   "language": "python",
   "name": "python3"
  },
  "language_info": {
   "codemirror_mode": {
    "name": "ipython",
    "version": 3
   },
   "file_extension": ".py",
   "mimetype": "text/x-python",
   "name": "python",
   "nbconvert_exporter": "python",
   "pygments_lexer": "ipython3",
   "version": "3.8.10"
  }
 },
 "nbformat": 4,
 "nbformat_minor": 5
}
