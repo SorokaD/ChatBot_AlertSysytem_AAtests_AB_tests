{
 "cells": [
  {
   "cell_type": "code",
   "execution_count": 5,
   "id": "096bb4a8-73d9-4999-937a-1f42bf7b1552",
   "metadata": {},
   "outputs": [],
   "source": [
    "import pandahouse\n",
    "import pandas as pd\n",
    "import seaborn as sns\n",
    "import matplotlib.pyplot as plt\n",
    "import numpy as np\n",
    "from statsmodels.stats.power import TTestIndPower\n",
    "from scipy import stats\n",
    "%matplotlib inline"
   ]
  },
  {
   "cell_type": "markdown",
   "id": "8ff3469f",
   "metadata": {},
   "source": [
    "Итак, что нужно сделать. У нас есть данные АА-теста с '2021-11-08' по '2021-11-14'. Вам нужно сделать симуляцию, как будто мы провели 10000 АА тестов. На каждой итерации вам нужно сформировать подвыборки с повторением в 500 юзеров из 2 и 3 экспериментальной группы. Провести сравнение этих подвыборок t-testом. \n",
    "\n",
    "1. Построить гистограмму распределения получившихся 10000 p-values.\n",
    "\n",
    "2. Посчитать, какой процент p values оказался меньше либо равен 0.05\n",
    "\n",
    "3. Написать вывод по проведенному АА-тесту, корректно ли работает наша система сплитования."
   ]
  },
  {
   "cell_type": "code",
   "execution_count": 55,
   "id": "0bb5e8fc-1c1f-4043-a010-5abb133f9865",
   "metadata": {},
   "outputs": [
    {
     "data": {
      "text/html": [
       "<div>\n",
       "<style scoped>\n",
       "    .dataframe tbody tr th:only-of-type {\n",
       "        vertical-align: middle;\n",
       "    }\n",
       "\n",
       "    .dataframe tbody tr th {\n",
       "        vertical-align: top;\n",
       "    }\n",
       "\n",
       "    .dataframe thead th {\n",
       "        text-align: right;\n",
       "    }\n",
       "</style>\n",
       "<table border=\"1\" class=\"dataframe\">\n",
       "  <thead>\n",
       "    <tr style=\"text-align: right;\">\n",
       "      <th></th>\n",
       "      <th>user_id</th>\n",
       "      <th>exp_group</th>\n",
       "      <th>likes</th>\n",
       "      <th>views</th>\n",
       "      <th>ctr</th>\n",
       "    </tr>\n",
       "  </thead>\n",
       "  <tbody>\n",
       "    <tr>\n",
       "      <th>0</th>\n",
       "      <td>115383</td>\n",
       "      <td>3</td>\n",
       "      <td>27</td>\n",
       "      <td>160</td>\n",
       "      <td>0.168750</td>\n",
       "    </tr>\n",
       "    <tr>\n",
       "      <th>1</th>\n",
       "      <td>10326</td>\n",
       "      <td>3</td>\n",
       "      <td>7</td>\n",
       "      <td>61</td>\n",
       "      <td>0.114754</td>\n",
       "    </tr>\n",
       "    <tr>\n",
       "      <th>2</th>\n",
       "      <td>131473</td>\n",
       "      <td>2</td>\n",
       "      <td>16</td>\n",
       "      <td>101</td>\n",
       "      <td>0.158416</td>\n",
       "    </tr>\n",
       "    <tr>\n",
       "      <th>3</th>\n",
       "      <td>123580</td>\n",
       "      <td>3</td>\n",
       "      <td>11</td>\n",
       "      <td>72</td>\n",
       "      <td>0.152778</td>\n",
       "    </tr>\n",
       "    <tr>\n",
       "      <th>4</th>\n",
       "      <td>23985</td>\n",
       "      <td>2</td>\n",
       "      <td>8</td>\n",
       "      <td>34</td>\n",
       "      <td>0.235294</td>\n",
       "    </tr>\n",
       "  </tbody>\n",
       "</table>\n",
       "</div>"
      ],
      "text/plain": [
       "   user_id  exp_group  likes  views       ctr\n",
       "0   115383          3     27    160  0.168750\n",
       "1    10326          3      7     61  0.114754\n",
       "2   131473          2     16    101  0.158416\n",
       "3   123580          3     11     72  0.152778\n",
       "4    23985          2      8     34  0.235294"
      ]
     },
     "execution_count": 55,
     "metadata": {},
     "output_type": "execute_result"
    }
   ],
   "source": [
    "# описываем соединение с БД\n",
    "connection = {\n",
    "    'host': 'https://clickhouse.lab.karpov.courses',\n",
    "    'password': 'dpo_python_2020',\n",
    "    'user': 'student',\n",
    "    'database': 'simulator'\n",
    "}\n",
    "# описываем sql запрос\n",
    "q = \"\"\"SELECT user_id, \n",
    "exp_group,\n",
    "countIf(action='like') likes, \n",
    "countIf(action='view') views, \n",
    "likes / views ctr\n",
    "FROM {db}.feed_actions \n",
    "where toDate(time) >= '2021-11-08' and toDate(time) <= '2021-11-14' and\n",
    "exp_group in (2, 3)\n",
    "group by user_id, exp_group\n",
    "\"\"\"\n",
    "# берем данные по sql запросу и кладем их df\n",
    "df = pandahouse.read_clickhouse(q, connection=connection)\n",
    "df.head()"
   ]
  },
  {
   "cell_type": "code",
   "execution_count": 62,
   "id": "9067c64e-3695-4080-9e2f-a58282328567",
   "metadata": {},
   "outputs": [
    {
     "data": {
      "text/plain": [
       "Ttest_indResult(statistic=0.2667781493859086, pvalue=0.7896432440544809)"
      ]
     },
     "execution_count": 62,
     "metadata": {},
     "output_type": "execute_result"
    }
   ],
   "source": [
    "# оценим с помощью t-test есть ли статистически значимые различия между группами 2 и 3, по метрике ctr\n",
    "# за нулевую гипотезу примем что между 2 и 3 различий нет\n",
    "t_test_result=stats.ttest_ind(df[df.exp_group == 2].ctr, df[df.exp_group == 3].ctr, equal_var=False)\n",
    "t_test_result"
   ]
  },
  {
   "cell_type": "code",
   "execution_count": null,
   "id": "99ced0d1-2132-4686-b9f8-1d5e1703e9fa",
   "metadata": {},
   "outputs": [],
   "source": [
    "# pvalue=0.7896432440544809 подтверждает нашу нулевую гипотезу"
   ]
  },
  {
   "cell_type": "code",
   "execution_count": 56,
   "id": "119b3b47-00e8-466c-9f46-57c346d3930d",
   "metadata": {},
   "outputs": [],
   "source": [
    "# проверим нашу гипотезу на множестве эксперементов \n",
    "p_values=[]\n",
    "for i in range(10000):\n",
    "    # сэмплируем по 500 значений из каждой exp_group\n",
    "    sample2=df[df.exp_group == 2].sample(n=500, replace=True) \n",
    "    sample3=df[df.exp_group == 3].sample(n=500, replace=True)\n",
    "    # проводим t-test между сэмплами\n",
    "    t_test_result=stats.ttest_ind(sample2.ctr, sample3.ctr, equal_var=False)\n",
    "    # добавляем в список результат p-value текущего t-test\n",
    "    p_values.append(t_test_result[1])\n",
    "    "
   ]
  },
  {
   "cell_type": "code",
   "execution_count": 58,
   "id": "073aab72-027a-4c6a-a130-971b4b38f739",
   "metadata": {},
   "outputs": [
    {
     "data": {
      "text/plain": [
       "<seaborn.axisgrid.FacetGrid at 0x7fa751af1610>"
      ]
     },
     "execution_count": 58,
     "metadata": {},
     "output_type": "execute_result"
    },
    {
     "data": {
      "image/png": "[encoded data removed]",
      "text/plain": [
       "<Figure size 360x360 with 1 Axes>"
      ]
     },
     "metadata": {
      "needs_background": "light"
     },
     "output_type": "display_data"
    }
   ],
   "source": [
    "# выводим гистограмму распределения наших 10к p-value \n",
    "sns.displot(p_values, bins=100)"
   ]
  },
  {
   "cell_type": "code",
   "execution_count": 61,
   "id": "e262365d-1dda-498f-9d3d-4b01ca3203ca",
   "metadata": {},
   "outputs": [
    {
     "data": {
      "text/plain": [
       "0.0551"
      ]
     },
     "execution_count": 61,
     "metadata": {},
     "output_type": "execute_result"
    }
   ],
   "source": [
    "# вычисляем процент значений p-value которые меньш чем 0,05\n",
    "count=0\n",
    "for i in range(len(p_values)):\n",
    "    if p_values[i]<0.05: count=count+1\n",
    "result=count/10000\n",
    "result"
   ]
  },
  {
   "cell_type": "markdown",
   "id": "55f0060e-fc19-4276-8997-c9802a8a034c",
   "metadata": {},
   "source": [
    "## Выводы:\n",
    "На входе у нас были каким-то образом отсплитованные группы 2 и 3. 'Единичный' t-test этих двух групп показал нам, что между ними нет статистически значимых различий и эти две группы можно смело заряжать на A/B тестирование. Однако есть вероятность того, что нулевая гипотеза не верна, а наше значение p-value мы получили случайным образом попав в 5% хвостов гипотезы 1. Проведя 10000 t-test над выборками по 500 значений группы 2 и группы 3 из совокупности, которая для нас считается \"отражением\" генеральной, мы заключаем что в 5,51% случаев нулевая гипотеза отвергается, а следовательно делаем вывод, что между группами 2 и 3 нет различий. "
   ]
  },
  {
   "cell_type": "markdown",
   "id": "13c620a5-e6ad-4f44-9cfd-27cab27aaa0e",
   "metadata": {},
   "source": [
    "P.S. меня немножко смущает +.0051.... насколько это критично !??? получается что не в 95% процентов случаев мы получем, что p-value >0,05 , а в 94,49% случаев\n",
    "... но ведь здесь речь идет не о результатах p-value A/B теста, а о качестве сплитования. Я бы проделал вручную еще несколько сплитований, прогнал результаты через код выше и если результаты соизмеримы, то все-таки сказал бы - \"Проканает\"."
   ]
  },
  {
   "cell_type": "code",
   "execution_count": null,
   "id": "8cb5d393-63e9-4a66-afec-1f38aacc1d93",
   "metadata": {},
   "outputs": [],
   "source": []
  }
 ],
 "metadata": {
  "kernelspec": {
   "display_name": "Python 3 (ipykernel)",
   "language": "python",
   "name": "python3"
  },
  "language_info": {
   "codemirror_mode": {
    "name": "ipython",
    "version": 3
   },
   "file_extension": ".py",
   "mimetype": "text/x-python",
   "name": "python",
   "nbconvert_exporter": "python",
   "pygments_lexer": "ipython3",
   "version": "3.8.10"
  }
 },
 "nbformat": 4,
 "nbformat_minor": 5
}
