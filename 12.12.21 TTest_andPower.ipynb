{
 "cells": [
  {
   "cell_type": "code",
   "execution_count": 1,
   "id": "096bb4a8-73d9-4999-937a-1f42bf7b1552",
   "metadata": {},
   "outputs": [],
   "source": [
    "import pandahouse\n",
    "import pandas as pd\n",
    "import seaborn as sns\n",
    "import matplotlib.pyplot as plt\n",
    "import numpy as np\n",
    "from statsmodels.stats.power import TTestIndPower\n",
    "from scipy import stats\n",
    "import scipy\n",
    "import math\n",
    "from statsmodels.stats.power import TTestIndPower\n",
    "from matplotlib.pyplot import figure\n",
    "import matplotlib.pyplot as plt\n",
    "%matplotlib inline"
   ]
  },
  {
   "cell_type": "markdown",
   "id": "cd67bd62-9e3b-4813-8b4b-0b801049625c",
   "metadata": {},
   "source": [
    "Используя данные проведенного АB-теста, давайте проанализируем мощность теста. Ваше задание - при помощи библиотеки метода TTestIndPower оценить, какой размер выборки нам потребуется в дальнейшем если мы:\n",
    "\n",
    "1. Хотим использовать t-test для сравнения CTR по юзерам.\n",
    "\n",
    "2. Ожидаем, что размер эффекта равен 0.3 .\n",
    "\n",
    "3. Мы хотим, чтобы мощность нашего теста равнялась 0.8.\n",
    "\n",
    "Также рассчитайте, чему оказался равен размер эффекта в нашем проведенном АB-тесте, и сделайте вывод, могли бы использовать меньший размер выборки при сохранении мощности на уровне 0.8."
   ]
  },
  {
   "cell_type": "markdown",
   "id": "d15fcca2-a070-4901-93c8-2f1df08c1263",
   "metadata": {},
   "source": [
    "#### Оценим размер выборки, который нам потребуется в дальнейшем, для A/B тестирования со следующими параметрами"
   ]
  },
  {
   "cell_type": "code",
   "execution_count": 2,
   "id": "7d40640d-e652-42dc-a1e2-571aa2244d83",
   "metadata": {},
   "outputs": [
    {
     "name": "stdout",
     "output_type": "stream",
     "text": [
      "Размер выборки, шт.:  175\n"
     ]
    }
   ],
   "source": [
    "# Расчитаем необходимый размер выборки для следующих параметров\n",
    "effect = 0.3\n",
    "alpha = 0.05\n",
    "power = 0.8\n",
    "analysis = TTestIndPower()\n",
    "\n",
    "# Оценим раззмер выборки\n",
    "size = analysis.solve_power(effect, power=power, alpha=alpha)\n",
    "\n",
    "print('Размер выборки, шт.: ', round(size))"
   ]
  },
  {
   "cell_type": "markdown",
   "id": "43014e85-66f5-453f-b158-7a0e1dc10acf",
   "metadata": {},
   "source": [
    "#### Оценим размер эффекта для A/B теста проведенного с группами 0 и 1, в период с 2021-11-29 по 2021-12-05 включительно"
   ]
  },
  {
   "cell_type": "code",
   "execution_count": 3,
   "id": "0d2c9c98-c6ce-4ea1-8ca2-0694c4d6b8b6",
   "metadata": {},
   "outputs": [
    {
     "data": {
      "text/html": [
       "<div>\n",
       "<style scoped>\n",
       "    .dataframe tbody tr th:only-of-type {\n",
       "        vertical-align: middle;\n",
       "    }\n",
       "\n",
       "    .dataframe tbody tr th {\n",
       "        vertical-align: top;\n",
       "    }\n",
       "\n",
       "    .dataframe thead th {\n",
       "        text-align: right;\n",
       "    }\n",
       "</style>\n",
       "<table border=\"1\" class=\"dataframe\">\n",
       "  <thead>\n",
       "    <tr style=\"text-align: right;\">\n",
       "      <th></th>\n",
       "      <th>user_id</th>\n",
       "      <th>exp_group</th>\n",
       "      <th>likes</th>\n",
       "      <th>views</th>\n",
       "      <th>ctr</th>\n",
       "    </tr>\n",
       "  </thead>\n",
       "  <tbody>\n",
       "    <tr>\n",
       "      <th>0</th>\n",
       "      <td>109963</td>\n",
       "      <td>1</td>\n",
       "      <td>4</td>\n",
       "      <td>13</td>\n",
       "      <td>0.307692</td>\n",
       "    </tr>\n",
       "    <tr>\n",
       "      <th>1</th>\n",
       "      <td>138232</td>\n",
       "      <td>1</td>\n",
       "      <td>41</td>\n",
       "      <td>166</td>\n",
       "      <td>0.246988</td>\n",
       "    </tr>\n",
       "    <tr>\n",
       "      <th>2</th>\n",
       "      <td>49204</td>\n",
       "      <td>1</td>\n",
       "      <td>39</td>\n",
       "      <td>134</td>\n",
       "      <td>0.291045</td>\n",
       "    </tr>\n",
       "    <tr>\n",
       "      <th>3</th>\n",
       "      <td>49286</td>\n",
       "      <td>1</td>\n",
       "      <td>6</td>\n",
       "      <td>61</td>\n",
       "      <td>0.098361</td>\n",
       "    </tr>\n",
       "    <tr>\n",
       "      <th>4</th>\n",
       "      <td>145957</td>\n",
       "      <td>1</td>\n",
       "      <td>46</td>\n",
       "      <td>202</td>\n",
       "      <td>0.227723</td>\n",
       "    </tr>\n",
       "  </tbody>\n",
       "</table>\n",
       "</div>"
      ],
      "text/plain": [
       "   user_id  exp_group  likes  views       ctr\n",
       "0   109963          1      4     13  0.307692\n",
       "1   138232          1     41    166  0.246988\n",
       "2    49204          1     39    134  0.291045\n",
       "3    49286          1      6     61  0.098361\n",
       "4   145957          1     46    202  0.227723"
      ]
     },
     "execution_count": 3,
     "metadata": {},
     "output_type": "execute_result"
    }
   ],
   "source": [
    "# описываем соединение с БД\n",
    "connection = {\n",
    "    'host': 'https://clickhouse.lab.karpov.courses',\n",
    "    'password': 'dpo_python_2020',\n",
    "    'user': 'student',\n",
    "    'database': 'simulator'\n",
    "}\n",
    "# описываем sql запрос\n",
    "q = \"\"\"SELECT user_id, \n",
    "exp_group,\n",
    "countIf(action='like') likes, \n",
    "countIf(action='view') views, \n",
    "likes / views ctr\n",
    "FROM {db}.feed_actions \n",
    "where toDate(time) >= '2021-11-29' and toDate(time) <= '2021-12-05' and\n",
    "exp_group in (0, 1)\n",
    "group by user_id, exp_group\n",
    "\"\"\"\n",
    "# берем данные по sql запросу и кладем их df\n",
    "df = pandahouse.read_clickhouse(q, connection=connection)\n",
    "df.head()"
   ]
  },
  {
   "cell_type": "code",
   "execution_count": 4,
   "id": "e0f17f25-5838-481c-b677-574b9ad821c2",
   "metadata": {},
   "outputs": [
    {
     "name": "stdout",
     "output_type": "stream",
     "text": [
      "Размер выборки 0:  12466\n",
      "Размер выборки 1:  12558\n"
     ]
    }
   ],
   "source": [
    "# Оценим размер выборки группы 0 и группы 1\n",
    "count_group_0=df[df.exp_group == 0].ctr.count()\n",
    "count_group_1=df[df.exp_group == 1].ctr.count()\n",
    "print('Размер выборки 0: ', count_group_0)\n",
    "print('Размер выборки 1: ', count_group_1)"
   ]
  },
  {
   "cell_type": "code",
   "execution_count": 5,
   "id": "31bbb2fb-9b26-423f-9e46-35c9b8e3764b",
   "metadata": {},
   "outputs": [],
   "source": [
    "# Расчитаем стандартне отклонения CTR для наших групп \n",
    "import statistics\n",
    "std_dev_0 = statistics.stdev(df[df.exp_group == 0].ctr)\n",
    "std_dev_1 = statistics.stdev(df[df.exp_group == 1].ctr)"
   ]
  },
  {
   "cell_type": "code",
   "execution_count": 6,
   "id": "73720ed9-d329-45e1-8f85-bdc17d9e3d40",
   "metadata": {},
   "outputs": [
    {
     "data": {
      "text/plain": [
       "0.08283403475781104"
      ]
     },
     "execution_count": 6,
     "metadata": {},
     "output_type": "execute_result"
    }
   ],
   "source": [
    "# Расчитаем взвешенное стандартное отклонение для выборок (считаем что) одинакового размера\n",
    "import math\n",
    "s_pooled=math.sqrt((std_dev_0**(2)+std_dev_1**(2))/2)\n",
    "s_pooled"
   ]
  },
  {
   "cell_type": "code",
   "execution_count": 9,
   "id": "ce7837c9-97bf-49a5-9c12-937bdc4a6665",
   "metadata": {},
   "outputs": [
    {
     "data": {
      "text/plain": [
       "0.188"
      ]
     },
     "execution_count": 9,
     "metadata": {},
     "output_type": "execute_result"
    }
   ],
   "source": [
    "# Расчитаем размер эффекта\n",
    "ES=round(abs((df[df.exp_group == 0].ctr.mean()-df[df.exp_group == 1].ctr.mean())/s_pooled),3)\n",
    "ES"
   ]
  },
  {
   "cell_type": "markdown",
   "id": "8d2503a8-f6b4-4e27-828c-8807a724da66",
   "metadata": {},
   "source": [
    "#### Расчитаем необходимый размер выборки для получения такого размера эффекта с мощностью 0.8 и порогом 0.05"
   ]
  },
  {
   "cell_type": "code",
   "execution_count": 13,
   "id": "94fa1f05-5b48-461a-9709-cba75ef34654",
   "metadata": {},
   "outputs": [
    {
     "data": {
      "text/plain": [
       "445"
      ]
     },
     "execution_count": 13,
     "metadata": {},
     "output_type": "execute_result"
    }
   ],
   "source": [
    "size = analysis.solve_power(ES, power=0.8, alpha=0.05)\n",
    "round(size)"
   ]
  },
  {
   "cell_type": "markdown",
   "id": "83a979ba-e7e2-4eed-a9a5-ff8e851b98a7",
   "metadata": {},
   "source": [
    "#### Для порведения такого A/B теста с сохранением мощности 0.8 достаточно было бы по 445 измерений в каждой группе. 12к+ измерений цифра явно завышенная."
   ]
  }
 ],
 "metadata": {
  "kernelspec": {
   "display_name": "Python 3 (ipykernel)",
   "language": "python",
   "name": "python3"
  },
  "language_info": {
   "codemirror_mode": {
    "name": "ipython",
    "version": 3
   },
   "file_extension": ".py",
   "mimetype": "text/x-python",
   "name": "python",
   "nbconvert_exporter": "python",
   "pygments_lexer": "ipython3",
   "version": "3.8.10"
  }
 },
 "nbformat": 4,
 "nbformat_minor": 5
}
