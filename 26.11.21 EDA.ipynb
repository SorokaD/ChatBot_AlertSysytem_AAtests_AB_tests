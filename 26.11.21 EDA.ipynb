{
 "cells": [
  {
   "cell_type": "code",
   "execution_count": 2,
   "id": "cfb4fa6f-adeb-4fe5-baa6-27b3f018d88a",
   "metadata": {},
   "outputs": [],
   "source": [
    "import pandas as pd\n",
    "import pandahouse as ph\n",
    "import statsmodels.api as sm\n",
    "import numpy as np\n",
    "import matplotlib.pyplot as plt\n",
    "from statsmodels.graphics.gofplots import qqplot_2samples\n",
    "from sklearn.preprocessing import StandardScaler\n",
    "from sklearn import preprocessing\n",
    "import matplotlib.pyplot as plt\n",
    "import seaborn as sns \n",
    "import datetime"
   ]
  },
  {
   "cell_type": "markdown",
   "id": "ba16f869-4e76-4e6e-91ad-0a26107b1411",
   "metadata": {},
   "source": [
    "## Ответим на ряд первичных вопросов "
   ]
  },
  {
   "cell_type": "markdown",
   "id": "df9ede93-470b-4f1e-9fcb-3a9a7c89472f",
   "metadata": {},
   "source": [
    "#### Загрузим данные "
   ]
  },
  {
   "cell_type": "code",
   "execution_count": 3,
   "id": "32648fb5-0893-4422-9521-5f03e6469135",
   "metadata": {},
   "outputs": [],
   "source": [
    "connection = {'host': 'http://clickhouse.beslan.pro:8080','database':'simulator','user':'student','password':'dpo_python_2020'}"
   ]
  },
  {
   "cell_type": "code",
   "execution_count": 4,
   "id": "5d049387-b4f4-42ec-bb68-9ca1154e4a54",
   "metadata": {},
   "outputs": [],
   "source": [
    "# Запрос на получение df post_id\tviews\tlikes\tuniq_users\n",
    "query = '''\n",
    "select \n",
    "    post_id,\n",
    "    countIf(action = 'view') as views,\n",
    "    countIf(action = 'like') as likes,\n",
    "    uniq(user_id) as uniq_users\n",
    "from {db}.feed_actions\n",
    "where toDate(time) > yesterday()-10000\n",
    "group by post_id\n",
    "order by views desc\n",
    "limit 100000\n",
    "'''"
   ]
  },
  {
   "cell_type": "code",
   "execution_count": 5,
   "id": "862e243c-3776-45c1-9372-0a52cb585c75",
   "metadata": {},
   "outputs": [
    {
     "data": {
      "text/html": [
       "<div>\n",
       "<style scoped>\n",
       "    .dataframe tbody tr th:only-of-type {\n",
       "        vertical-align: middle;\n",
       "    }\n",
       "\n",
       "    .dataframe tbody tr th {\n",
       "        vertical-align: top;\n",
       "    }\n",
       "\n",
       "    .dataframe thead th {\n",
       "        text-align: right;\n",
       "    }\n",
       "</style>\n",
       "<table border=\"1\" class=\"dataframe\">\n",
       "  <thead>\n",
       "    <tr style=\"text-align: right;\">\n",
       "      <th></th>\n",
       "      <th>post_id</th>\n",
       "      <th>views</th>\n",
       "      <th>likes</th>\n",
       "      <th>uniq_users</th>\n",
       "    </tr>\n",
       "  </thead>\n",
       "  <tbody>\n",
       "    <tr>\n",
       "      <th>0</th>\n",
       "      <td>5483</td>\n",
       "      <td>103291</td>\n",
       "      <td>30931</td>\n",
       "      <td>55340</td>\n",
       "    </tr>\n",
       "    <tr>\n",
       "      <th>1</th>\n",
       "      <td>5309</td>\n",
       "      <td>93190</td>\n",
       "      <td>28081</td>\n",
       "      <td>52103</td>\n",
       "    </tr>\n",
       "    <tr>\n",
       "      <th>2</th>\n",
       "      <td>5237</td>\n",
       "      <td>89493</td>\n",
       "      <td>27137</td>\n",
       "      <td>50224</td>\n",
       "    </tr>\n",
       "    <tr>\n",
       "      <th>3</th>\n",
       "      <td>4237</td>\n",
       "      <td>82448</td>\n",
       "      <td>23095</td>\n",
       "      <td>45665</td>\n",
       "    </tr>\n",
       "    <tr>\n",
       "      <th>4</th>\n",
       "      <td>4574</td>\n",
       "      <td>79538</td>\n",
       "      <td>21835</td>\n",
       "      <td>45735</td>\n",
       "    </tr>\n",
       "    <tr>\n",
       "      <th>...</th>\n",
       "      <td>...</td>\n",
       "      <td>...</td>\n",
       "      <td>...</td>\n",
       "      <td>...</td>\n",
       "    </tr>\n",
       "    <tr>\n",
       "      <th>6346</th>\n",
       "      <td>135</td>\n",
       "      <td>1</td>\n",
       "      <td>1</td>\n",
       "      <td>1</td>\n",
       "    </tr>\n",
       "    <tr>\n",
       "      <th>6347</th>\n",
       "      <td>9</td>\n",
       "      <td>1</td>\n",
       "      <td>0</td>\n",
       "      <td>1</td>\n",
       "    </tr>\n",
       "    <tr>\n",
       "      <th>6348</th>\n",
       "      <td>1015</td>\n",
       "      <td>1</td>\n",
       "      <td>0</td>\n",
       "      <td>1</td>\n",
       "    </tr>\n",
       "    <tr>\n",
       "      <th>6349</th>\n",
       "      <td>210</td>\n",
       "      <td>1</td>\n",
       "      <td>0</td>\n",
       "      <td>1</td>\n",
       "    </tr>\n",
       "    <tr>\n",
       "      <th>6350</th>\n",
       "      <td>6358</td>\n",
       "      <td>1</td>\n",
       "      <td>0</td>\n",
       "      <td>1</td>\n",
       "    </tr>\n",
       "  </tbody>\n",
       "</table>\n",
       "<p>6351 rows × 4 columns</p>\n",
       "</div>"
      ],
      "text/plain": [
       "      post_id   views  likes  uniq_users\n",
       "0        5483  103291  30931       55340\n",
       "1        5309   93190  28081       52103\n",
       "2        5237   89493  27137       50224\n",
       "3        4237   82448  23095       45665\n",
       "4        4574   79538  21835       45735\n",
       "...       ...     ...    ...         ...\n",
       "6346      135       1      1           1\n",
       "6347        9       1      0           1\n",
       "6348     1015       1      0           1\n",
       "6349      210       1      0           1\n",
       "6350     6358       1      0           1\n",
       "\n",
       "[6351 rows x 4 columns]"
      ]
     },
     "execution_count": 5,
     "metadata": {},
     "output_type": "execute_result"
    }
   ],
   "source": [
    "df = ph.read_clickhouse(query, connection=connection)\n",
    "df"
   ]
  },
  {
   "cell_type": "code",
   "execution_count": 7,
   "id": "6beda9ac-ef5b-4a88-98d5-8ec971d2afa6",
   "metadata": {},
   "outputs": [
    {
     "data": {
      "text/html": [
       "<div>\n",
       "<style scoped>\n",
       "    .dataframe tbody tr th:only-of-type {\n",
       "        vertical-align: middle;\n",
       "    }\n",
       "\n",
       "    .dataframe tbody tr th {\n",
       "        vertical-align: top;\n",
       "    }\n",
       "\n",
       "    .dataframe thead th {\n",
       "        text-align: right;\n",
       "    }\n",
       "</style>\n",
       "<table border=\"1\" class=\"dataframe\">\n",
       "  <thead>\n",
       "    <tr style=\"text-align: right;\">\n",
       "      <th></th>\n",
       "      <th>post_id</th>\n",
       "      <th>views</th>\n",
       "      <th>likes</th>\n",
       "      <th>uniq_users</th>\n",
       "    </tr>\n",
       "  </thead>\n",
       "  <tbody>\n",
       "    <tr>\n",
       "      <th>5363</th>\n",
       "      <td>0</td>\n",
       "      <td>213</td>\n",
       "      <td>15</td>\n",
       "      <td>204</td>\n",
       "    </tr>\n",
       "    <tr>\n",
       "      <th>4897</th>\n",
       "      <td>1</td>\n",
       "      <td>439</td>\n",
       "      <td>51</td>\n",
       "      <td>414</td>\n",
       "    </tr>\n",
       "    <tr>\n",
       "      <th>2298</th>\n",
       "      <td>2</td>\n",
       "      <td>5161</td>\n",
       "      <td>1197</td>\n",
       "      <td>3505</td>\n",
       "    </tr>\n",
       "    <tr>\n",
       "      <th>1661</th>\n",
       "      <td>3</td>\n",
       "      <td>8474</td>\n",
       "      <td>2050</td>\n",
       "      <td>4991</td>\n",
       "    </tr>\n",
       "    <tr>\n",
       "      <th>5545</th>\n",
       "      <td>4</td>\n",
       "      <td>154</td>\n",
       "      <td>16</td>\n",
       "      <td>151</td>\n",
       "    </tr>\n",
       "    <tr>\n",
       "      <th>...</th>\n",
       "      <td>...</td>\n",
       "      <td>...</td>\n",
       "      <td>...</td>\n",
       "      <td>...</td>\n",
       "    </tr>\n",
       "    <tr>\n",
       "      <th>6272</th>\n",
       "      <td>6641</td>\n",
       "      <td>12</td>\n",
       "      <td>2</td>\n",
       "      <td>12</td>\n",
       "    </tr>\n",
       "    <tr>\n",
       "      <th>2022</th>\n",
       "      <td>6645</td>\n",
       "      <td>6409</td>\n",
       "      <td>1449</td>\n",
       "      <td>5553</td>\n",
       "    </tr>\n",
       "    <tr>\n",
       "      <th>5441</th>\n",
       "      <td>6646</td>\n",
       "      <td>191</td>\n",
       "      <td>16</td>\n",
       "      <td>191</td>\n",
       "    </tr>\n",
       "    <tr>\n",
       "      <th>5684</th>\n",
       "      <td>6650</td>\n",
       "      <td>116</td>\n",
       "      <td>22</td>\n",
       "      <td>116</td>\n",
       "    </tr>\n",
       "    <tr>\n",
       "      <th>5535</th>\n",
       "      <td>6654</td>\n",
       "      <td>156</td>\n",
       "      <td>40</td>\n",
       "      <td>156</td>\n",
       "    </tr>\n",
       "  </tbody>\n",
       "</table>\n",
       "<p>6351 rows × 4 columns</p>\n",
       "</div>"
      ],
      "text/plain": [
       "      post_id  views  likes  uniq_users\n",
       "5363        0    213     15         204\n",
       "4897        1    439     51         414\n",
       "2298        2   5161   1197        3505\n",
       "1661        3   8474   2050        4991\n",
       "5545        4    154     16         151\n",
       "...       ...    ...    ...         ...\n",
       "6272     6641     12      2          12\n",
       "2022     6645   6409   1449        5553\n",
       "5441     6646    191     16         191\n",
       "5684     6650    116     22         116\n",
       "5535     6654    156     40         156\n",
       "\n",
       "[6351 rows x 4 columns]"
      ]
     },
     "execution_count": 7,
     "metadata": {},
     "output_type": "execute_result"
    }
   ],
   "source": [
    "df.sort_values(['post_id'])"
   ]
  },
  {
   "cell_type": "markdown",
   "id": "a6af8cc8-bbb2-4ef4-bcf4-c53654f72f8a",
   "metadata": {},
   "source": [
    "#### Оценим медиану и среднее по лайкам"
   ]
  },
  {
   "cell_type": "code",
   "execution_count": 8,
   "id": "a80036c9-0a34-43cd-b6f7-63326e2951cf",
   "metadata": {},
   "outputs": [
    {
     "name": "stdout",
     "output_type": "stream",
     "text": [
      "Медиана лайков: 304.0 Среднее лайков: 1525.7\n",
      "Медиана просм.: 2550.0 Среднее просм.: 7289.29\n"
     ]
    }
   ],
   "source": [
    "print('Медиана лайков:', df['likes'].median(), 'Среднее лайков:', round(df['likes'].mean(),2))\n",
    "print('Медиана просм.:', df['views'].median(), 'Среднее просм.:', round(df['views'].mean(),2))"
   ]
  },
  {
   "cell_type": "markdown",
   "id": "398ed8b2-d04f-44d7-87df-d25ec0b36737",
   "metadata": {},
   "source": [
    "#### Построим гисторграммы для лайков и просмотров, q-q график (и боксплоты ради любопытства) для нестандартизованных данных"
   ]
  },
  {
   "cell_type": "code",
   "execution_count": 9,
   "id": "8500a077-979b-4c51-bf6d-963b0309dd63",
   "metadata": {},
   "outputs": [
    {
     "data": {
      "text/plain": [
       "<AxesSubplot:>"
      ]
     },
     "execution_count": 9,
     "metadata": {},
     "output_type": "execute_result"
    },
    {
     "data": {
      "image/png": "[encoded data removed]",
      "text/plain": [
       "<Figure size 432x288 with 1 Axes>"
      ]
     },
     "metadata": {
      "needs_background": "light"
     },
     "output_type": "display_data"
    }
   ],
   "source": [
    "# Гисограмма для НЕстандртзованных лайков\n",
    "df.likes.hist(bins=30)"
   ]
  },
  {
   "cell_type": "code",
   "execution_count": 10,
   "id": "6be7c83f-b706-4c26-a613-252263ce297f",
   "metadata": {},
   "outputs": [
    {
     "data": {
      "text/plain": [
       "<AxesSubplot:>"
      ]
     },
     "execution_count": 10,
     "metadata": {},
     "output_type": "execute_result"
    },
    {
     "data": {
      "image/png": "[encoded data removed]",
      "text/plain": [
       "<Figure size 432x288 with 1 Axes>"
      ]
     },
     "metadata": {
      "needs_background": "light"
     },
     "output_type": "display_data"
    }
   ],
   "source": [
    "# Гисограмма для НЕстандртзованных просмотров\n",
    "df.views.hist(bins=30)"
   ]
  },
  {
   "cell_type": "code",
   "execution_count": 12,
   "id": "0d214e1d-941e-47b4-8557-657976ee981d",
   "metadata": {},
   "outputs": [
    {
     "name": "stderr",
     "output_type": "stream",
     "text": [
      "/nfs/env/lib/python3.8/site-packages/statsmodels/graphics/gofplots.py:993: UserWarning: marker is redundantly defined by the 'marker' keyword argument and the fmt string \"bo\" (-> marker='o'). The keyword argument will take precedence.\n",
      "  ax.plot(x, y, fmt, **plot_style)\n"
     ]
    },
    {
     "data": {
      "image/png": "[encoded data removed]",
      "text/plain": [
       "<Figure size 432x288 with 1 Axes>"
      ]
     },
     "metadata": {
      "needs_background": "light"
     },
     "output_type": "display_data"
    }
   ],
   "source": [
    "# НЕстандартизованный qq график для двух столбцов\n",
    "qqplot_2samples(df.views,df.likes, line='45')\n",
    "plt.show()"
   ]
  },
  {
   "cell_type": "code",
   "execution_count": 13,
   "id": "026d5b33-7d29-4cee-b134-19b2079aa5ee",
   "metadata": {},
   "outputs": [
    {
     "name": "stderr",
     "output_type": "stream",
     "text": [
      "/nfs/env/lib/python3.8/site-packages/seaborn/_decorators.py:36: FutureWarning: Pass the following variable as a keyword arg: x. From version 0.12, the only valid positional argument will be `data`, and passing other arguments without an explicit keyword will result in an error or misinterpretation.\n",
      "  warnings.warn(\n"
     ]
    },
    {
     "data": {
      "text/plain": [
       "<AxesSubplot:xlabel='likes'>"
      ]
     },
     "execution_count": 13,
     "metadata": {},
     "output_type": "execute_result"
    },
    {
     "data": {
      "image/png": "[encoded data removed]",
      "text/plain": [
       "<Figure size 432x288 with 1 Axes>"
      ]
     },
     "metadata": {
      "needs_background": "light"
     },
     "output_type": "display_data"
    }
   ],
   "source": [
    "sns.boxplot(df.likes)"
   ]
  },
  {
   "cell_type": "code",
   "execution_count": 14,
   "id": "0ce2b40b-13f8-4a64-99dd-8051b9b48e57",
   "metadata": {},
   "outputs": [
    {
     "name": "stderr",
     "output_type": "stream",
     "text": [
      "/nfs/env/lib/python3.8/site-packages/seaborn/_decorators.py:36: FutureWarning: Pass the following variable as a keyword arg: x. From version 0.12, the only valid positional argument will be `data`, and passing other arguments without an explicit keyword will result in an error or misinterpretation.\n",
      "  warnings.warn(\n"
     ]
    },
    {
     "data": {
      "text/plain": [
       "<AxesSubplot:xlabel='views'>"
      ]
     },
     "execution_count": 14,
     "metadata": {},
     "output_type": "execute_result"
    },
    {
     "data": {
      "image/png": "[encoded data removed]",
      "text/plain": [
       "<Figure size 432x288 with 1 Axes>"
      ]
     },
     "metadata": {
      "needs_background": "light"
     },
     "output_type": "display_data"
    }
   ],
   "source": [
    "sns.boxplot(df.views)"
   ]
  },
  {
   "cell_type": "markdown",
   "id": "5b7febe7-95c7-4147-bacc-9055e61ac09f",
   "metadata": {},
   "source": [
    "#### Наблюдаем пики около нуля/единицы как для просмотров, так и для лайков. Для данных характерна положительная асимметрия"
   ]
  },
  {
   "cell_type": "markdown",
   "id": "c97ba9f7-abd5-46b3-a3f6-bbbbb5206836",
   "metadata": {},
   "source": [
    "#### Стандартизуем данные и сделаем тоже самое для стандартизованых цифр"
   ]
  },
  {
   "cell_type": "code",
   "execution_count": 15,
   "id": "b4081488-c950-462e-a321-83279e099530",
   "metadata": {},
   "outputs": [],
   "source": [
    "# Функция для стандартизации данных\n",
    "def scale_data(data):\n",
    "    data=np.array(data).reshape(-1,1)\n",
    "    data=StandardScaler().fit_transform(data)\n",
    "    data=pd.DataFrame(data)\n",
    "    return(data)"
   ]
  },
  {
   "cell_type": "code",
   "execution_count": 16,
   "id": "de3540a3-0b41-4fb8-970c-71d76f6a62ea",
   "metadata": {},
   "outputs": [],
   "source": [
    "# Стандартизуем лайки и просмотры\n",
    "sdl=scale_data(df.likes)\n",
    "sdv=scale_data(df.views)"
   ]
  },
  {
   "cell_type": "code",
   "execution_count": 17,
   "id": "699e0313-eab8-40d4-903b-41868bd76432",
   "metadata": {},
   "outputs": [
    {
     "data": {
      "text/plain": [
       "array([[<AxesSubplot:title={'center':'0'}>]], dtype=object)"
      ]
     },
     "execution_count": 17,
     "metadata": {},
     "output_type": "execute_result"
    },
    {
     "data": {
      "image/png": "[encoded data removed]",
      "text/plain": [
       "<Figure size 432x288 with 1 Axes>"
      ]
     },
     "metadata": {
      "needs_background": "light"
     },
     "output_type": "display_data"
    },
    {
     "data": {
      "image/png": "[encoded data removed]",
      "text/plain": [
       "<Figure size 432x288 with 1 Axes>"
      ]
     },
     "metadata": {
      "needs_background": "light"
     },
     "output_type": "display_data"
    }
   ],
   "source": [
    "sdl.hist(bins=50)\n",
    "sdv.hist(bins=50)"
   ]
  },
  {
   "cell_type": "code",
   "execution_count": 18,
   "id": "efd1fbde-eb7b-492e-812b-26660e5d69b0",
   "metadata": {},
   "outputs": [
    {
     "name": "stderr",
     "output_type": "stream",
     "text": [
      "/nfs/env/lib/python3.8/site-packages/statsmodels/graphics/gofplots.py:993: UserWarning: marker is redundantly defined by the 'marker' keyword argument and the fmt string \"bo\" (-> marker='o'). The keyword argument will take precedence.\n",
      "  ax.plot(x, y, fmt, **plot_style)\n"
     ]
    },
    {
     "data": {
      "image/png": "[encoded data removed]",
      "text/plain": [
       "<Figure size 432x288 with 1 Axes>"
      ]
     },
     "metadata": {
      "needs_background": "light"
     },
     "output_type": "display_data"
    }
   ],
   "source": [
    "# стандартизованный qq график для двух столбцов\n",
    "qqplot_2samples(sdl,sdv, line='45')\n",
    "plt.show()"
   ]
  },
  {
   "cell_type": "markdown",
   "id": "295253b9-15d4-41e1-ba74-4a6685c82c9b",
   "metadata": {},
   "source": [
    "#### Стандартизированные данные отличаются по своим правым \"хвостам\" - концам распределений"
   ]
  },
  {
   "cell_type": "markdown",
   "id": "f5506fa4-c76d-4302-85f8-8b6fcec4ddef",
   "metadata": {},
   "source": [
    "#### Оценим CTR как отношение лайков к просмотрам, кроме того оценим время жизни каждого поста"
   ]
  },
  {
   "cell_type": "code",
   "execution_count": 19,
   "id": "de258532-3500-4c44-a218-e8dcd7d66375",
   "metadata": {},
   "outputs": [
    {
     "data": {
      "text/html": [
       "<div>\n",
       "<style scoped>\n",
       "    .dataframe tbody tr th:only-of-type {\n",
       "        vertical-align: middle;\n",
       "    }\n",
       "\n",
       "    .dataframe tbody tr th {\n",
       "        vertical-align: top;\n",
       "    }\n",
       "\n",
       "    .dataframe thead th {\n",
       "        text-align: right;\n",
       "    }\n",
       "</style>\n",
       "<table border=\"1\" class=\"dataframe\">\n",
       "  <thead>\n",
       "    <tr style=\"text-align: right;\">\n",
       "      <th></th>\n",
       "      <th>post_id</th>\n",
       "      <th>views</th>\n",
       "      <th>likes</th>\n",
       "      <th>uniq_users</th>\n",
       "      <th>ctr</th>\n",
       "    </tr>\n",
       "  </thead>\n",
       "  <tbody>\n",
       "    <tr>\n",
       "      <th>5363</th>\n",
       "      <td>0</td>\n",
       "      <td>213</td>\n",
       "      <td>15</td>\n",
       "      <td>204</td>\n",
       "      <td>0.070423</td>\n",
       "    </tr>\n",
       "    <tr>\n",
       "      <th>4897</th>\n",
       "      <td>1</td>\n",
       "      <td>439</td>\n",
       "      <td>51</td>\n",
       "      <td>414</td>\n",
       "      <td>0.116173</td>\n",
       "    </tr>\n",
       "    <tr>\n",
       "      <th>2298</th>\n",
       "      <td>2</td>\n",
       "      <td>5161</td>\n",
       "      <td>1197</td>\n",
       "      <td>3505</td>\n",
       "      <td>0.231932</td>\n",
       "    </tr>\n",
       "    <tr>\n",
       "      <th>1661</th>\n",
       "      <td>3</td>\n",
       "      <td>8474</td>\n",
       "      <td>2050</td>\n",
       "      <td>4991</td>\n",
       "      <td>0.241916</td>\n",
       "    </tr>\n",
       "    <tr>\n",
       "      <th>5545</th>\n",
       "      <td>4</td>\n",
       "      <td>154</td>\n",
       "      <td>16</td>\n",
       "      <td>151</td>\n",
       "      <td>0.103896</td>\n",
       "    </tr>\n",
       "    <tr>\n",
       "      <th>...</th>\n",
       "      <td>...</td>\n",
       "      <td>...</td>\n",
       "      <td>...</td>\n",
       "      <td>...</td>\n",
       "      <td>...</td>\n",
       "    </tr>\n",
       "    <tr>\n",
       "      <th>6272</th>\n",
       "      <td>6641</td>\n",
       "      <td>12</td>\n",
       "      <td>2</td>\n",
       "      <td>12</td>\n",
       "      <td>0.166667</td>\n",
       "    </tr>\n",
       "    <tr>\n",
       "      <th>2022</th>\n",
       "      <td>6645</td>\n",
       "      <td>6409</td>\n",
       "      <td>1449</td>\n",
       "      <td>5553</td>\n",
       "      <td>0.226088</td>\n",
       "    </tr>\n",
       "    <tr>\n",
       "      <th>5441</th>\n",
       "      <td>6646</td>\n",
       "      <td>191</td>\n",
       "      <td>16</td>\n",
       "      <td>191</td>\n",
       "      <td>0.083770</td>\n",
       "    </tr>\n",
       "    <tr>\n",
       "      <th>5684</th>\n",
       "      <td>6650</td>\n",
       "      <td>116</td>\n",
       "      <td>22</td>\n",
       "      <td>116</td>\n",
       "      <td>0.189655</td>\n",
       "    </tr>\n",
       "    <tr>\n",
       "      <th>5535</th>\n",
       "      <td>6654</td>\n",
       "      <td>156</td>\n",
       "      <td>40</td>\n",
       "      <td>156</td>\n",
       "      <td>0.256410</td>\n",
       "    </tr>\n",
       "  </tbody>\n",
       "</table>\n",
       "<p>6351 rows × 5 columns</p>\n",
       "</div>"
      ],
      "text/plain": [
       "      post_id  views  likes  uniq_users       ctr\n",
       "5363        0    213     15         204  0.070423\n",
       "4897        1    439     51         414  0.116173\n",
       "2298        2   5161   1197        3505  0.231932\n",
       "1661        3   8474   2050        4991  0.241916\n",
       "5545        4    154     16         151  0.103896\n",
       "...       ...    ...    ...         ...       ...\n",
       "6272     6641     12      2          12  0.166667\n",
       "2022     6645   6409   1449        5553  0.226088\n",
       "5441     6646    191     16         191  0.083770\n",
       "5684     6650    116     22         116  0.189655\n",
       "5535     6654    156     40         156  0.256410\n",
       "\n",
       "[6351 rows x 5 columns]"
      ]
     },
     "execution_count": 19,
     "metadata": {},
     "output_type": "execute_result"
    }
   ],
   "source": [
    "# добавим столбец ctr в наш dataframe \n",
    "df['ctr']=df.likes/df.views\n",
    "df.sort_values('post_id', inplace=True)\n",
    "df"
   ]
  },
  {
   "cell_type": "code",
   "execution_count": 20,
   "id": "e7cb039d-c4b3-49a3-a45f-e2f03c8cb105",
   "metadata": {},
   "outputs": [],
   "source": [
    "# запросим данные по времени \n",
    "query_time = '''\n",
    "select \n",
    "    max(time) as max_time,\n",
    "    min(time) as min_time,\n",
    "    post_id\n",
    "from {db}.feed_actions\n",
    "group by post_id\n",
    "order by post_id\n",
    "'''"
   ]
  },
  {
   "cell_type": "code",
   "execution_count": 21,
   "id": "37f0fb45-eba3-43e4-9591-e4c99230c892",
   "metadata": {},
   "outputs": [
    {
     "data": {
      "text/html": [
       "<div>\n",
       "<style scoped>\n",
       "    .dataframe tbody tr th:only-of-type {\n",
       "        vertical-align: middle;\n",
       "    }\n",
       "\n",
       "    .dataframe tbody tr th {\n",
       "        vertical-align: top;\n",
       "    }\n",
       "\n",
       "    .dataframe thead th {\n",
       "        text-align: right;\n",
       "    }\n",
       "</style>\n",
       "<table border=\"1\" class=\"dataframe\">\n",
       "  <thead>\n",
       "    <tr style=\"text-align: right;\">\n",
       "      <th></th>\n",
       "      <th>max_time</th>\n",
       "      <th>min_time</th>\n",
       "      <th>post_id</th>\n",
       "    </tr>\n",
       "  </thead>\n",
       "  <tbody>\n",
       "    <tr>\n",
       "      <th>0</th>\n",
       "      <td>2021-10-20 07:35:31</td>\n",
       "      <td>2021-10-19 00:29:50</td>\n",
       "      <td>0</td>\n",
       "    </tr>\n",
       "    <tr>\n",
       "      <th>1</th>\n",
       "      <td>2021-10-21 03:25:08</td>\n",
       "      <td>2021-10-19 18:40:17</td>\n",
       "      <td>1</td>\n",
       "    </tr>\n",
       "    <tr>\n",
       "      <th>2</th>\n",
       "      <td>2021-10-23 23:57:57</td>\n",
       "      <td>2021-10-19 23:22:23</td>\n",
       "      <td>2</td>\n",
       "    </tr>\n",
       "    <tr>\n",
       "      <th>3</th>\n",
       "      <td>2021-10-24 23:46:17</td>\n",
       "      <td>2021-10-19 20:33:29</td>\n",
       "      <td>3</td>\n",
       "    </tr>\n",
       "    <tr>\n",
       "      <th>4</th>\n",
       "      <td>2021-10-20 15:36:16</td>\n",
       "      <td>2021-10-19 17:28:45</td>\n",
       "      <td>4</td>\n",
       "    </tr>\n",
       "    <tr>\n",
       "      <th>...</th>\n",
       "      <td>...</td>\n",
       "      <td>...</td>\n",
       "      <td>...</td>\n",
       "    </tr>\n",
       "    <tr>\n",
       "      <th>6347</th>\n",
       "      <td>2022-01-12 17:07:38</td>\n",
       "      <td>2022-01-12 16:54:01</td>\n",
       "      <td>6641</td>\n",
       "    </tr>\n",
       "    <tr>\n",
       "      <th>6348</th>\n",
       "      <td>2022-01-12 17:07:37</td>\n",
       "      <td>2022-01-12 01:39:03</td>\n",
       "      <td>6645</td>\n",
       "    </tr>\n",
       "    <tr>\n",
       "      <th>6349</th>\n",
       "      <td>2022-01-12 17:05:38</td>\n",
       "      <td>2022-01-12 13:30:11</td>\n",
       "      <td>6646</td>\n",
       "    </tr>\n",
       "    <tr>\n",
       "      <th>6350</th>\n",
       "      <td>2022-01-12 17:07:38</td>\n",
       "      <td>2022-01-12 16:48:11</td>\n",
       "      <td>6650</td>\n",
       "    </tr>\n",
       "    <tr>\n",
       "      <th>6351</th>\n",
       "      <td>2022-01-12 17:07:31</td>\n",
       "      <td>2022-01-12 16:43:44</td>\n",
       "      <td>6654</td>\n",
       "    </tr>\n",
       "  </tbody>\n",
       "</table>\n",
       "<p>6352 rows × 3 columns</p>\n",
       "</div>"
      ],
      "text/plain": [
       "                max_time            min_time  post_id\n",
       "0    2021-10-20 07:35:31 2021-10-19 00:29:50        0\n",
       "1    2021-10-21 03:25:08 2021-10-19 18:40:17        1\n",
       "2    2021-10-23 23:57:57 2021-10-19 23:22:23        2\n",
       "3    2021-10-24 23:46:17 2021-10-19 20:33:29        3\n",
       "4    2021-10-20 15:36:16 2021-10-19 17:28:45        4\n",
       "...                  ...                 ...      ...\n",
       "6347 2022-01-12 17:07:38 2022-01-12 16:54:01     6641\n",
       "6348 2022-01-12 17:07:37 2022-01-12 01:39:03     6645\n",
       "6349 2022-01-12 17:05:38 2022-01-12 13:30:11     6646\n",
       "6350 2022-01-12 17:07:38 2022-01-12 16:48:11     6650\n",
       "6351 2022-01-12 17:07:31 2022-01-12 16:43:44     6654\n",
       "\n",
       "[6352 rows x 3 columns]"
      ]
     },
     "execution_count": 21,
     "metadata": {},
     "output_type": "execute_result"
    }
   ],
   "source": [
    "data_time = ph.read_clickhouse(query_time, connection=connection)\n",
    "data_time"
   ]
  },
  {
   "cell_type": "code",
   "execution_count": 22,
   "id": "ac031a1b-fdd8-45d0-85ed-e78c2ae5ab53",
   "metadata": {},
   "outputs": [
    {
     "data": {
      "text/plain": [
       "max_time       datetime64[ns]\n",
       "min_time       datetime64[ns]\n",
       "post_id                uint32\n",
       "delta_time    timedelta64[ns]\n",
       "dtype: object"
      ]
     },
     "execution_count": 22,
     "metadata": {},
     "output_type": "execute_result"
    }
   ],
   "source": [
    "# вычислим время жизни каждого поста\n",
    "data_time['delta_time']=data_time.max_time-data_time.min_time\n",
    "data_time.dtypes"
   ]
  },
  {
   "cell_type": "code",
   "execution_count": 23,
   "id": "5d6517ca-52db-4607-9573-c000a31650b2",
   "metadata": {},
   "outputs": [
    {
     "data": {
      "text/html": [
       "<div>\n",
       "<style scoped>\n",
       "    .dataframe tbody tr th:only-of-type {\n",
       "        vertical-align: middle;\n",
       "    }\n",
       "\n",
       "    .dataframe tbody tr th {\n",
       "        vertical-align: top;\n",
       "    }\n",
       "\n",
       "    .dataframe thead th {\n",
       "        text-align: right;\n",
       "    }\n",
       "</style>\n",
       "<table border=\"1\" class=\"dataframe\">\n",
       "  <thead>\n",
       "    <tr style=\"text-align: right;\">\n",
       "      <th></th>\n",
       "      <th>post_id</th>\n",
       "      <th>views</th>\n",
       "      <th>likes</th>\n",
       "      <th>uniq_users</th>\n",
       "      <th>ctr</th>\n",
       "      <th>live_time</th>\n",
       "    </tr>\n",
       "  </thead>\n",
       "  <tbody>\n",
       "    <tr>\n",
       "      <th>5363</th>\n",
       "      <td>0</td>\n",
       "      <td>213</td>\n",
       "      <td>15</td>\n",
       "      <td>204</td>\n",
       "      <td>0.070423</td>\n",
       "      <td>0 days 03:03:29</td>\n",
       "    </tr>\n",
       "    <tr>\n",
       "      <th>4897</th>\n",
       "      <td>1</td>\n",
       "      <td>439</td>\n",
       "      <td>51</td>\n",
       "      <td>414</td>\n",
       "      <td>0.116173</td>\n",
       "      <td>3 days 14:59:44</td>\n",
       "    </tr>\n",
       "    <tr>\n",
       "      <th>2298</th>\n",
       "      <td>2</td>\n",
       "      <td>5161</td>\n",
       "      <td>1197</td>\n",
       "      <td>3505</td>\n",
       "      <td>0.231932</td>\n",
       "      <td>2 days 12:31:06</td>\n",
       "    </tr>\n",
       "    <tr>\n",
       "      <th>1661</th>\n",
       "      <td>3</td>\n",
       "      <td>8474</td>\n",
       "      <td>2050</td>\n",
       "      <td>4991</td>\n",
       "      <td>0.241916</td>\n",
       "      <td>3 days 04:26:28</td>\n",
       "    </tr>\n",
       "    <tr>\n",
       "      <th>5545</th>\n",
       "      <td>4</td>\n",
       "      <td>154</td>\n",
       "      <td>16</td>\n",
       "      <td>151</td>\n",
       "      <td>0.103896</td>\n",
       "      <td>0 days 10:30:07</td>\n",
       "    </tr>\n",
       "    <tr>\n",
       "      <th>...</th>\n",
       "      <td>...</td>\n",
       "      <td>...</td>\n",
       "      <td>...</td>\n",
       "      <td>...</td>\n",
       "      <td>...</td>\n",
       "      <td>...</td>\n",
       "    </tr>\n",
       "    <tr>\n",
       "      <th>6272</th>\n",
       "      <td>6641</td>\n",
       "      <td>12</td>\n",
       "      <td>2</td>\n",
       "      <td>12</td>\n",
       "      <td>0.166667</td>\n",
       "      <td>0 days 18:18:32</td>\n",
       "    </tr>\n",
       "    <tr>\n",
       "      <th>2022</th>\n",
       "      <td>6645</td>\n",
       "      <td>6409</td>\n",
       "      <td>1449</td>\n",
       "      <td>5553</td>\n",
       "      <td>0.226088</td>\n",
       "      <td>1 days 16:50:36</td>\n",
       "    </tr>\n",
       "    <tr>\n",
       "      <th>5441</th>\n",
       "      <td>6646</td>\n",
       "      <td>191</td>\n",
       "      <td>16</td>\n",
       "      <td>191</td>\n",
       "      <td>0.083770</td>\n",
       "      <td>0 days 15:22:19</td>\n",
       "    </tr>\n",
       "    <tr>\n",
       "      <th>5684</th>\n",
       "      <td>6650</td>\n",
       "      <td>116</td>\n",
       "      <td>22</td>\n",
       "      <td>116</td>\n",
       "      <td>0.189655</td>\n",
       "      <td>1 days 11:21:34</td>\n",
       "    </tr>\n",
       "    <tr>\n",
       "      <th>5535</th>\n",
       "      <td>6654</td>\n",
       "      <td>156</td>\n",
       "      <td>40</td>\n",
       "      <td>156</td>\n",
       "      <td>0.256410</td>\n",
       "      <td>0 days 05:55:42</td>\n",
       "    </tr>\n",
       "  </tbody>\n",
       "</table>\n",
       "<p>6351 rows × 6 columns</p>\n",
       "</div>"
      ],
      "text/plain": [
       "      post_id  views  likes  uniq_users       ctr       live_time\n",
       "5363        0    213     15         204  0.070423 0 days 03:03:29\n",
       "4897        1    439     51         414  0.116173 3 days 14:59:44\n",
       "2298        2   5161   1197        3505  0.231932 2 days 12:31:06\n",
       "1661        3   8474   2050        4991  0.241916 3 days 04:26:28\n",
       "5545        4    154     16         151  0.103896 0 days 10:30:07\n",
       "...       ...    ...    ...         ...       ...             ...\n",
       "6272     6641     12      2          12  0.166667 0 days 18:18:32\n",
       "2022     6645   6409   1449        5553  0.226088 1 days 16:50:36\n",
       "5441     6646    191     16         191  0.083770 0 days 15:22:19\n",
       "5684     6650    116     22         116  0.189655 1 days 11:21:34\n",
       "5535     6654    156     40         156  0.256410 0 days 05:55:42\n",
       "\n",
       "[6351 rows x 6 columns]"
      ]
     },
     "execution_count": 23,
     "metadata": {},
     "output_type": "execute_result"
    }
   ],
   "source": [
    "# добавим в dataframe столбец с временем жизни поста\n",
    "df['live_time']=data_time['delta_time']\n",
    "df"
   ]
  },
  {
   "cell_type": "code",
   "execution_count": 24,
   "id": "81eb64c7-6187-46ad-887c-f87daa4b4725",
   "metadata": {},
   "outputs": [
    {
     "data": {
      "text/plain": [
       "<AxesSubplot:>"
      ]
     },
     "execution_count": 24,
     "metadata": {},
     "output_type": "execute_result"
    },
    {
     "data": {
      "image/png": "[encoded data removed]",
      "text/plain": [
       "<Figure size 432x288 with 1 Axes>"
      ]
     },
     "metadata": {
      "needs_background": "light"
     },
     "output_type": "display_data"
    }
   ],
   "source": [
    "# выведем гистограмму CTR\n",
    "df.ctr.hist(bins=50)"
   ]
  },
  {
   "cell_type": "markdown",
   "id": "d7a94e58-706b-4553-b4e3-4fc90875470d",
   "metadata": {},
   "source": [
    "#### По сравнению с просмотрами и лайками, CTR менее ассиметричен"
   ]
  },
  {
   "cell_type": "code",
   "execution_count": 30,
   "id": "911aaf76-9afa-42bb-91b3-636531419845",
   "metadata": {},
   "outputs": [
    {
     "data": {
      "text/plain": [
       "5363     30.580556\n",
       "4897    869.955556\n",
       "2298    605.183333\n",
       "1661    764.411111\n",
       "5545    105.019444\n",
       "           ...    \n",
       "6272    183.088889\n",
       "2022    408.433333\n",
       "5441    153.719444\n",
       "5684    353.594444\n",
       "5535     59.283333\n",
       "Name: live_time, Length: 6351, dtype: float64"
      ]
     },
     "execution_count": 30,
     "metadata": {},
     "output_type": "execute_result"
    }
   ],
   "source": [
    "df['live_time'].dt.total_seconds()/360"
   ]
  },
  {
   "cell_type": "code",
   "execution_count": 32,
   "id": "c6e06550-0fce-4e3f-b1b7-19cbd86c6831",
   "metadata": {},
   "outputs": [],
   "source": [
    "df['live_time_hour']=df['live_time'].dt.total_seconds()/360"
   ]
  },
  {
   "cell_type": "code",
   "execution_count": 33,
   "id": "74900c04-a058-481f-bf5f-0e71b5bd3001",
   "metadata": {},
   "outputs": [
    {
     "data": {
      "text/plain": [
       "<AxesSubplot:>"
      ]
     },
     "execution_count": 33,
     "metadata": {},
     "output_type": "execute_result"
    },
    {
     "data": {
      "image/png": "[encoded data removed]",
      "text/plain": [
       "<Figure size 432x288 with 1 Axes>"
      ]
     },
     "metadata": {
      "needs_background": "light"
     },
     "output_type": "display_data"
    }
   ],
   "source": [
    "# гистограмма времени жизни поста\n",
    "df.live_time_hour.hist(bins=50)"
   ]
  },
  {
   "cell_type": "code",
   "execution_count": 225,
   "id": "93da63a2-fe9b-4556-a135-8082e71a4d91",
   "metadata": {},
   "outputs": [
    {
     "data": {
      "text/plain": [
       "300.45"
      ]
     },
     "execution_count": 225,
     "metadata": {},
     "output_type": "execute_result"
    }
   ],
   "source": [
    "# медиана времени жизни поста\n",
    "df['live_time_hour'].median()"
   ]
  },
  {
   "cell_type": "code",
   "execution_count": 34,
   "id": "dfce2535-44c4-4e31-aac4-6c650b6c4632",
   "metadata": {},
   "outputs": [
    {
     "data": {
      "text/plain": [
       "392.01"
      ]
     },
     "execution_count": 34,
     "metadata": {},
     "output_type": "execute_result"
    }
   ],
   "source": [
    "# среднее времени жизни поста\n",
    "round(df['live_time_hour'].mean(),2)"
   ]
  },
  {
   "cell_type": "markdown",
   "id": "4a071334-dc1f-4fd2-93b7-36ab9961773e",
   "metadata": {},
   "source": [
    "#### Построим матрицу корреляций "
   ]
  },
  {
   "cell_type": "code",
   "execution_count": 232,
   "id": "a89cc112-f124-4ec5-9dbf-58eda3a84df6",
   "metadata": {},
   "outputs": [],
   "source": [
    "corr_matrix=df[['views','likes','ctr','live_time_hour']].corr()"
   ]
  },
  {
   "cell_type": "code",
   "execution_count": 233,
   "id": "9d2fb126-ba8e-4d61-b1a0-eef164366708",
   "metadata": {},
   "outputs": [
    {
     "data": {
      "text/html": [
       "<div>\n",
       "<style scoped>\n",
       "    .dataframe tbody tr th:only-of-type {\n",
       "        vertical-align: middle;\n",
       "    }\n",
       "\n",
       "    .dataframe tbody tr th {\n",
       "        vertical-align: top;\n",
       "    }\n",
       "\n",
       "    .dataframe thead th {\n",
       "        text-align: right;\n",
       "    }\n",
       "</style>\n",
       "<table border=\"1\" class=\"dataframe\">\n",
       "  <thead>\n",
       "    <tr style=\"text-align: right;\">\n",
       "      <th></th>\n",
       "      <th>views</th>\n",
       "      <th>likes</th>\n",
       "      <th>ctr</th>\n",
       "      <th>live_time_hour</th>\n",
       "    </tr>\n",
       "  </thead>\n",
       "  <tbody>\n",
       "    <tr>\n",
       "      <th>views</th>\n",
       "      <td>1.000000</td>\n",
       "      <td>0.989809</td>\n",
       "      <td>0.710893</td>\n",
       "      <td>0.025021</td>\n",
       "    </tr>\n",
       "    <tr>\n",
       "      <th>likes</th>\n",
       "      <td>0.989809</td>\n",
       "      <td>1.000000</td>\n",
       "      <td>0.673229</td>\n",
       "      <td>0.023500</td>\n",
       "    </tr>\n",
       "    <tr>\n",
       "      <th>ctr</th>\n",
       "      <td>0.710893</td>\n",
       "      <td>0.673229</td>\n",
       "      <td>1.000000</td>\n",
       "      <td>0.030349</td>\n",
       "    </tr>\n",
       "    <tr>\n",
       "      <th>live_time_hour</th>\n",
       "      <td>0.025021</td>\n",
       "      <td>0.023500</td>\n",
       "      <td>0.030349</td>\n",
       "      <td>1.000000</td>\n",
       "    </tr>\n",
       "  </tbody>\n",
       "</table>\n",
       "</div>"
      ],
      "text/plain": [
       "                   views     likes       ctr  live_time_hour\n",
       "views           1.000000  0.989809  0.710893        0.025021\n",
       "likes           0.989809  1.000000  0.673229        0.023500\n",
       "ctr             0.710893  0.673229  1.000000        0.030349\n",
       "live_time_hour  0.025021  0.023500  0.030349        1.000000"
      ]
     },
     "execution_count": 233,
     "metadata": {},
     "output_type": "execute_result"
    }
   ],
   "source": [
    "corr_matrix"
   ]
  },
  {
   "cell_type": "markdown",
   "id": "b5714a01-b8ac-40f4-ac90-f893e91e1a27",
   "metadata": {},
   "source": [
    "#### Визуализируем эти взаимосвязи"
   ]
  },
  {
   "cell_type": "code",
   "execution_count": 234,
   "id": "85435a14-b10d-46b7-8e2d-33acfdf7af36",
   "metadata": {},
   "outputs": [
    {
     "data": {
      "text/plain": [
       "<seaborn.axisgrid.PairGrid at 0x7f53eeb4da30>"
      ]
     },
     "execution_count": 234,
     "metadata": {},
     "output_type": "execute_result"
    },
    {
     "data": {
      "image/png": "[encoded data removed]",
      "text/plain": [
       "<Figure size 720x720 with 20 Axes>"
      ]
     },
     "metadata": {
      "needs_background": "light"
     },
     "output_type": "display_data"
    }
   ],
   "source": [
    "sns.pairplot(df[['views','likes','ctr','live_time_hour']])"
   ]
  },
  {
   "cell_type": "markdown",
   "id": "a6f79015-d305-4ab7-aae1-bea115a6d505",
   "metadata": {},
   "source": [
    "#### Мы посмотрели как на вклад пользователей, так и вклад постов в общую динамику просмотров и лайков. Однако не менее полезной может оказаться декомпозиция временного ряда на компоненты - чтобы выделить отдельные составляющие части процесса"
   ]
  },
  {
   "cell_type": "markdown",
   "id": "fd5d1ac2-0b3b-4a70-9844-0f48dd3adc3d",
   "metadata": {},
   "source": [
    "#### Возьмем почасовую динамику активности за весь период и проанализируем её функцией statsmodels.tsa.seasonal.STL. "
   ]
  },
  {
   "cell_type": "code",
   "execution_count": 39,
   "id": "fb4935bf-d54c-47a6-95cb-b57663e2a819",
   "metadata": {},
   "outputs": [],
   "source": [
    "query_time = '''\n",
    "SELECT \n",
    "    toStartOfInterval(time, INTERVAL 1 hour) as t,\n",
    "    uniq(user_id) as uu_id\n",
    "FROM {db}.feed_actions\n",
    "GROUP BY t \n",
    "order by t\n",
    "'''"
   ]
  },
  {
   "cell_type": "code",
   "execution_count": 40,
   "id": "17a6ac5d-23e8-48a3-bd7a-b22a9b500a06",
   "metadata": {},
   "outputs": [
    {
     "data": {
      "text/html": [
       "<div>\n",
       "<style scoped>\n",
       "    .dataframe tbody tr th:only-of-type {\n",
       "        vertical-align: middle;\n",
       "    }\n",
       "\n",
       "    .dataframe tbody tr th {\n",
       "        vertical-align: top;\n",
       "    }\n",
       "\n",
       "    .dataframe thead th {\n",
       "        text-align: right;\n",
       "    }\n",
       "</style>\n",
       "<table border=\"1\" class=\"dataframe\">\n",
       "  <thead>\n",
       "    <tr style=\"text-align: right;\">\n",
       "      <th></th>\n",
       "      <th>t</th>\n",
       "      <th>uu_id</th>\n",
       "    </tr>\n",
       "  </thead>\n",
       "  <tbody>\n",
       "    <tr>\n",
       "      <th>0</th>\n",
       "      <td>2021-10-19 00:00:00</td>\n",
       "      <td>17</td>\n",
       "    </tr>\n",
       "    <tr>\n",
       "      <th>1</th>\n",
       "      <td>2021-10-19 01:00:00</td>\n",
       "      <td>20</td>\n",
       "    </tr>\n",
       "    <tr>\n",
       "      <th>2</th>\n",
       "      <td>2021-10-19 02:00:00</td>\n",
       "      <td>15</td>\n",
       "    </tr>\n",
       "    <tr>\n",
       "      <th>3</th>\n",
       "      <td>2021-10-19 03:00:00</td>\n",
       "      <td>8</td>\n",
       "    </tr>\n",
       "    <tr>\n",
       "      <th>4</th>\n",
       "      <td>2021-10-19 04:00:00</td>\n",
       "      <td>9</td>\n",
       "    </tr>\n",
       "    <tr>\n",
       "      <th>...</th>\n",
       "      <td>...</td>\n",
       "      <td>...</td>\n",
       "    </tr>\n",
       "    <tr>\n",
       "      <th>2053</th>\n",
       "      <td>2022-01-12 13:00:00</td>\n",
       "      <td>2070</td>\n",
       "    </tr>\n",
       "    <tr>\n",
       "      <th>2054</th>\n",
       "      <td>2022-01-12 14:00:00</td>\n",
       "      <td>2151</td>\n",
       "    </tr>\n",
       "    <tr>\n",
       "      <th>2055</th>\n",
       "      <td>2022-01-12 15:00:00</td>\n",
       "      <td>2143</td>\n",
       "    </tr>\n",
       "    <tr>\n",
       "      <th>2056</th>\n",
       "      <td>2022-01-12 16:00:00</td>\n",
       "      <td>2289</td>\n",
       "    </tr>\n",
       "    <tr>\n",
       "      <th>2057</th>\n",
       "      <td>2022-01-12 17:00:00</td>\n",
       "      <td>1403</td>\n",
       "    </tr>\n",
       "  </tbody>\n",
       "</table>\n",
       "<p>2058 rows × 2 columns</p>\n",
       "</div>"
      ],
      "text/plain": [
       "                       t  uu_id\n",
       "0    2021-10-19 00:00:00     17\n",
       "1    2021-10-19 01:00:00     20\n",
       "2    2021-10-19 02:00:00     15\n",
       "3    2021-10-19 03:00:00      8\n",
       "4    2021-10-19 04:00:00      9\n",
       "...                  ...    ...\n",
       "2053 2022-01-12 13:00:00   2070\n",
       "2054 2022-01-12 14:00:00   2151\n",
       "2055 2022-01-12 15:00:00   2143\n",
       "2056 2022-01-12 16:00:00   2289\n",
       "2057 2022-01-12 17:00:00   1403\n",
       "\n",
       "[2058 rows x 2 columns]"
      ]
     },
     "execution_count": 40,
     "metadata": {},
     "output_type": "execute_result"
    }
   ],
   "source": [
    "data_activ_user = ph.read_clickhouse(query_time, connection=connection)\n",
    "data_activ_user"
   ]
  },
  {
   "cell_type": "code",
   "execution_count": 41,
   "id": "e762a6e7-5e7b-4fed-8fc4-23b2a1bc3f3c",
   "metadata": {},
   "outputs": [
    {
     "name": "stderr",
     "output_type": "stream",
     "text": [
      "/tmp/ipykernel_148/1054175411.py:4: FutureWarning: the 'freq'' keyword is deprecated, use 'period' instead\n",
      "  result = seasonal_decompose(data_activ_user.uu_id, model='multiplicative', freq=1)\n"
     ]
    },
    {
     "data": {
      "image/png": "[encoded data removed]",
      "text/plain": [
       "<Figure size 432x288 with 4 Axes>"
      ]
     },
     "metadata": {
      "needs_background": "light"
     },
     "output_type": "display_data"
    }
   ],
   "source": [
    "from pandas import Series\n",
    "from matplotlib import pyplot\n",
    "from statsmodels.tsa.seasonal import seasonal_decompose\n",
    "result = seasonal_decompose(data_activ_user.uu_id, model='multiplicative', freq=1)\n",
    "result.plot()\n",
    "pyplot.show()\n"
   ]
  }
 ],
 "metadata": {
  "kernelspec": {
   "display_name": "Python 3 (ipykernel)",
   "language": "python",
   "name": "python3"
  },
  "language_info": {
   "codemirror_mode": {
    "name": "ipython",
    "version": 3
   },
   "file_extension": ".py",
   "mimetype": "text/x-python",
   "name": "python",
   "nbconvert_exporter": "python",
   "pygments_lexer": "ipython3",
   "version": "3.8.10"
  }
 },
 "nbformat": 4,
 "nbformat_minor": 5
}
